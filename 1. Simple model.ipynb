{
 "cells": [
  {
   "cell_type": "markdown",
   "metadata": {},
   "source": [
    "# Simple model of Keras"
   ]
  },
  {
   "cell_type": "markdown",
   "metadata": {},
   "source": [
    "Following steps are required in building the Deep Learning model:-\n",
    "\n",
    "1. Load Data \n",
    "2. Define Model\n",
    "3. Compile Model\n",
    "4. Fit Model\n",
    "5. Evaluate Model\n",
    "6. Tie It all together"
   ]
  },
  {
   "cell_type": "markdown",
   "metadata": {},
   "source": [
    "# Importing the libraries"
   ]
  },
  {
   "cell_type": "code",
   "execution_count": 2,
   "metadata": {},
   "outputs": [
    {
     "name": "stderr",
     "output_type": "stream",
     "text": [
      "Using TensorFlow backend.\n"
     ]
    }
   ],
   "source": [
    "import numpy as np\n",
    "import pandas as pd\n",
    "from keras.models import Sequential\n",
    "from keras.layers import Dense \n",
    "\n",
    "np.random.seed(0)"
   ]
  },
  {
   "cell_type": "markdown",
   "metadata": {},
   "source": [
    "# Loading the dataset"
   ]
  },
  {
   "cell_type": "code",
   "execution_count": 1,
   "metadata": {},
   "outputs": [],
   "source": [
    "## Here we will take the Diabetes dataset"
   ]
  },
  {
   "cell_type": "code",
   "execution_count": 10,
   "metadata": {},
   "outputs": [],
   "source": [
    "data = pd.read_csv('diabetes.csv')"
   ]
  },
  {
   "cell_type": "code",
   "execution_count": 11,
   "metadata": {},
   "outputs": [
    {
     "data": {
      "text/html": [
       "<div>\n",
       "<style scoped>\n",
       "    .dataframe tbody tr th:only-of-type {\n",
       "        vertical-align: middle;\n",
       "    }\n",
       "\n",
       "    .dataframe tbody tr th {\n",
       "        vertical-align: top;\n",
       "    }\n",
       "\n",
       "    .dataframe thead th {\n",
       "        text-align: right;\n",
       "    }\n",
       "</style>\n",
       "<table border=\"1\" class=\"dataframe\">\n",
       "  <thead>\n",
       "    <tr style=\"text-align: right;\">\n",
       "      <th></th>\n",
       "      <th>Pregnancies</th>\n",
       "      <th>Glucose</th>\n",
       "      <th>BloodPressure</th>\n",
       "      <th>SkinThickness</th>\n",
       "      <th>Insulin</th>\n",
       "      <th>BMI</th>\n",
       "      <th>DiabetesPedigreeFunction</th>\n",
       "      <th>Age</th>\n",
       "      <th>Outcome</th>\n",
       "    </tr>\n",
       "  </thead>\n",
       "  <tbody>\n",
       "    <tr>\n",
       "      <th>0</th>\n",
       "      <td>6</td>\n",
       "      <td>148</td>\n",
       "      <td>72</td>\n",
       "      <td>35</td>\n",
       "      <td>0</td>\n",
       "      <td>33.6</td>\n",
       "      <td>0.627</td>\n",
       "      <td>50</td>\n",
       "      <td>1</td>\n",
       "    </tr>\n",
       "    <tr>\n",
       "      <th>1</th>\n",
       "      <td>1</td>\n",
       "      <td>85</td>\n",
       "      <td>66</td>\n",
       "      <td>29</td>\n",
       "      <td>0</td>\n",
       "      <td>26.6</td>\n",
       "      <td>0.351</td>\n",
       "      <td>31</td>\n",
       "      <td>0</td>\n",
       "    </tr>\n",
       "    <tr>\n",
       "      <th>2</th>\n",
       "      <td>8</td>\n",
       "      <td>183</td>\n",
       "      <td>64</td>\n",
       "      <td>0</td>\n",
       "      <td>0</td>\n",
       "      <td>23.3</td>\n",
       "      <td>0.672</td>\n",
       "      <td>32</td>\n",
       "      <td>1</td>\n",
       "    </tr>\n",
       "    <tr>\n",
       "      <th>3</th>\n",
       "      <td>1</td>\n",
       "      <td>89</td>\n",
       "      <td>66</td>\n",
       "      <td>23</td>\n",
       "      <td>94</td>\n",
       "      <td>28.1</td>\n",
       "      <td>0.167</td>\n",
       "      <td>21</td>\n",
       "      <td>0</td>\n",
       "    </tr>\n",
       "    <tr>\n",
       "      <th>4</th>\n",
       "      <td>0</td>\n",
       "      <td>137</td>\n",
       "      <td>40</td>\n",
       "      <td>35</td>\n",
       "      <td>168</td>\n",
       "      <td>43.1</td>\n",
       "      <td>2.288</td>\n",
       "      <td>33</td>\n",
       "      <td>1</td>\n",
       "    </tr>\n",
       "  </tbody>\n",
       "</table>\n",
       "</div>"
      ],
      "text/plain": [
       "   Pregnancies  Glucose  BloodPressure  SkinThickness  Insulin   BMI  \\\n",
       "0            6      148             72             35        0  33.6   \n",
       "1            1       85             66             29        0  26.6   \n",
       "2            8      183             64              0        0  23.3   \n",
       "3            1       89             66             23       94  28.1   \n",
       "4            0      137             40             35      168  43.1   \n",
       "\n",
       "   DiabetesPedigreeFunction  Age  Outcome  \n",
       "0                     0.627   50        1  \n",
       "1                     0.351   31        0  \n",
       "2                     0.672   32        1  \n",
       "3                     0.167   21        0  \n",
       "4                     2.288   33        1  "
      ]
     },
     "execution_count": 11,
     "metadata": {},
     "output_type": "execute_result"
    }
   ],
   "source": [
    "data.head()"
   ]
  },
  {
   "cell_type": "code",
   "execution_count": 13,
   "metadata": {},
   "outputs": [],
   "source": [
    "X = data.iloc[:,:-1]\n",
    "Y = data.iloc[:,-1]"
   ]
  },
  {
   "cell_type": "markdown",
   "metadata": {},
   "source": [
    "# Creating Model"
   ]
  },
  {
   "cell_type": "code",
   "execution_count": 15,
   "metadata": {},
   "outputs": [],
   "source": [
    "model = Sequential()"
   ]
  },
  {
   "cell_type": "markdown",
   "metadata": {},
   "source": [
    "Number of neuron in the as the first argument, the initialization  method as the second argument as the init and  specify the activation function using the activation as the argument\n",
    "\n",
    "\n",
    "[Visible Layer(8 inputs)] ---> [Hidden layer(12 neurons)] ---> [Hidden Layer(8 neurons)] ---> [Output layer(1 output)]"
   ]
  },
  {
   "cell_type": "code",
   "execution_count": 18,
   "metadata": {},
   "outputs": [
    {
     "name": "stderr",
     "output_type": "stream",
     "text": [
      "/root/anaconda3/lib/python3.6/site-packages/ipykernel_launcher.py:1: UserWarning: Update your `Dense` call to the Keras 2 API: `Dense(12, input_dim=8, activation=\"relu\", kernel_initializer=\"uniform\")`\n",
      "  \"\"\"Entry point for launching an IPython kernel.\n",
      "/root/anaconda3/lib/python3.6/site-packages/ipykernel_launcher.py:2: UserWarning: Update your `Dense` call to the Keras 2 API: `Dense(8, activation=\"relu\", kernel_initializer=\"uniform\")`\n",
      "  \n",
      "/root/anaconda3/lib/python3.6/site-packages/ipykernel_launcher.py:3: UserWarning: Update your `Dense` call to the Keras 2 API: `Dense(1, activation=\"sigmoid\", kernel_initializer=\"uniform\")`\n",
      "  This is separate from the ipykernel package so we can avoid doing imports until\n"
     ]
    }
   ],
   "source": [
    "model.add(Dense(12, input_dim=8, init='uniform', activation='relu'))\n",
    "model.add(Dense(8, init='uniform', activation='relu'))\n",
    "model.add(Dense(1, init='uniform', activation='sigmoid'))"
   ]
  },
  {
   "cell_type": "markdown",
   "metadata": {},
   "source": [
    "# Compiling the model"
   ]
  },
  {
   "cell_type": "markdown",
   "metadata": {},
   "source": [
    "We must specify the loss function to use to evaluate a set of weights, the optimizer used to search through different weights for the neural network. in this case we used the logarithmic loss function for binary classification in keras it is gives as binary_crossentropy. Because it is the classification problem we will collect and report the classfication accuracy as the metrics."
   ]
  },
  {
   "cell_type": "code",
   "execution_count": 19,
   "metadata": {},
   "outputs": [],
   "source": [
    "model.compile(loss='binary_crossentropy', optimizer='adam', metrics=['accuracy'])"
   ]
  },
  {
   "cell_type": "markdown",
   "metadata": {},
   "source": [
    "# Fit the model"
   ]
  },
  {
   "cell_type": "markdown",
   "metadata": {},
   "source": [
    "The trainig process will run for a fixed number of iterations through the dataset called epochs given in keras as nb_epoch. we also set the number of instances that are evaluated before a weights update in the network is performed called the batch size and set using the batch_size argument."
   ]
  },
  {
   "cell_type": "code",
   "execution_count": 22,
   "metadata": {},
   "outputs": [
    {
     "name": "stderr",
     "output_type": "stream",
     "text": [
      "/root/anaconda3/lib/python3.6/site-packages/ipykernel_launcher.py:1: UserWarning: The `nb_epoch` argument in `fit` has been renamed `epochs`.\n",
      "  \"\"\"Entry point for launching an IPython kernel.\n"
     ]
    },
    {
     "name": "stdout",
     "output_type": "stream",
     "text": [
      "Epoch 1/100\n",
      "768/768 [==============================] - 1s 1ms/step - loss: 0.6884 - acc: 0.6380\n",
      "Epoch 2/100\n",
      "768/768 [==============================] - 0s 181us/step - loss: 0.6739 - acc: 0.6510\n",
      "Epoch 3/100\n",
      "768/768 [==============================] - 0s 183us/step - loss: 0.6564 - acc: 0.6510\n",
      "Epoch 4/100\n",
      "768/768 [==============================] - 0s 170us/step - loss: 0.6485 - acc: 0.6510\n",
      "Epoch 5/100\n",
      "768/768 [==============================] - 0s 185us/step - loss: 0.6474 - acc: 0.6510\n",
      "Epoch 6/100\n",
      "768/768 [==============================] - 0s 189us/step - loss: 0.6471 - acc: 0.6510\n",
      "Epoch 7/100\n",
      "768/768 [==============================] - 0s 187us/step - loss: 0.6471 - acc: 0.6510\n",
      "Epoch 8/100\n",
      "768/768 [==============================] - 0s 172us/step - loss: 0.6472 - acc: 0.6510\n",
      "Epoch 9/100\n",
      "768/768 [==============================] - 0s 143us/step - loss: 0.6472 - acc: 0.6510\n",
      "Epoch 10/100\n",
      "768/768 [==============================] - 0s 138us/step - loss: 0.6475 - acc: 0.6510\n",
      "Epoch 11/100\n",
      "768/768 [==============================] - 0s 136us/step - loss: 0.6475 - acc: 0.6510\n",
      "Epoch 12/100\n",
      "768/768 [==============================] - 0s 138us/step - loss: 0.6471 - acc: 0.6510\n",
      "Epoch 13/100\n",
      "768/768 [==============================] - 0s 142us/step - loss: 0.6475 - acc: 0.6510\n",
      "Epoch 14/100\n",
      "768/768 [==============================] - 0s 184us/step - loss: 0.6470 - acc: 0.6510\n",
      "Epoch 15/100\n",
      "768/768 [==============================] - 0s 185us/step - loss: 0.6475 - acc: 0.6510\n",
      "Epoch 16/100\n",
      "768/768 [==============================] - 0s 190us/step - loss: 0.6471 - acc: 0.6510\n",
      "Epoch 17/100\n",
      "768/768 [==============================] - 0s 185us/step - loss: 0.6473 - acc: 0.6510\n",
      "Epoch 18/100\n",
      "768/768 [==============================] - 0s 142us/step - loss: 0.6473 - acc: 0.6510\n",
      "Epoch 19/100\n",
      "768/768 [==============================] - 0s 131us/step - loss: 0.6471 - acc: 0.6510\n",
      "Epoch 20/100\n",
      "768/768 [==============================] - 0s 149us/step - loss: 0.6473 - acc: 0.6510\n",
      "Epoch 21/100\n",
      "768/768 [==============================] - 0s 133us/step - loss: 0.6471 - acc: 0.6510\n",
      "Epoch 22/100\n",
      "768/768 [==============================] - 0s 154us/step - loss: 0.6472 - acc: 0.6510\n",
      "Epoch 23/100\n",
      "768/768 [==============================] - 0s 189us/step - loss: 0.6474 - acc: 0.6510\n",
      "Epoch 24/100\n",
      "768/768 [==============================] - 0s 197us/step - loss: 0.6473 - acc: 0.6510\n",
      "Epoch 25/100\n",
      "768/768 [==============================] - 0s 199us/step - loss: 0.6476 - acc: 0.6510\n",
      "Epoch 26/100\n",
      "768/768 [==============================] - 0s 183us/step - loss: 0.6472 - acc: 0.6510\n",
      "Epoch 27/100\n",
      "768/768 [==============================] - 0s 149us/step - loss: 0.6471 - acc: 0.6510\n",
      "Epoch 28/100\n",
      "768/768 [==============================] - 0s 137us/step - loss: 0.6472 - acc: 0.6510\n",
      "Epoch 29/100\n",
      "768/768 [==============================] - 0s 135us/step - loss: 0.6473 - acc: 0.6510\n",
      "Epoch 30/100\n",
      "768/768 [==============================] - 0s 133us/step - loss: 0.6471 - acc: 0.6510\n",
      "Epoch 31/100\n",
      "768/768 [==============================] - 0s 157us/step - loss: 0.6472 - acc: 0.6510\n",
      "Epoch 32/100\n",
      "768/768 [==============================] - 0s 193us/step - loss: 0.6470 - acc: 0.6510\n",
      "Epoch 33/100\n",
      "768/768 [==============================] - 0s 202us/step - loss: 0.6472 - acc: 0.6510\n",
      "Epoch 34/100\n",
      "768/768 [==============================] - 0s 199us/step - loss: 0.6472 - acc: 0.6510\n",
      "Epoch 35/100\n",
      "768/768 [==============================] - 0s 176us/step - loss: 0.6473 - acc: 0.6510\n",
      "Epoch 36/100\n",
      "768/768 [==============================] - 0s 159us/step - loss: 0.6470 - acc: 0.6510\n",
      "Epoch 37/100\n",
      "768/768 [==============================] - 0s 131us/step - loss: 0.6473 - acc: 0.6510\n",
      "Epoch 38/100\n",
      "768/768 [==============================] - 0s 141us/step - loss: 0.6471 - acc: 0.6510\n",
      "Epoch 39/100\n",
      "768/768 [==============================] - 0s 143us/step - loss: 0.6471 - acc: 0.6510\n",
      "Epoch 40/100\n",
      "768/768 [==============================] - 0s 159us/step - loss: 0.6471 - acc: 0.6510\n",
      "Epoch 41/100\n",
      "768/768 [==============================] - 0s 194us/step - loss: 0.6472 - acc: 0.6510\n",
      "Epoch 42/100\n",
      "768/768 [==============================] - 0s 193us/step - loss: 0.6472 - acc: 0.6510\n",
      "Epoch 43/100\n",
      "768/768 [==============================] - 0s 180us/step - loss: 0.6472 - acc: 0.6510\n",
      "Epoch 44/100\n",
      "768/768 [==============================] - 0s 161us/step - loss: 0.6473 - acc: 0.6510\n",
      "Epoch 45/100\n",
      "768/768 [==============================] - 0s 147us/step - loss: 0.6471 - acc: 0.6510\n",
      "Epoch 46/100\n",
      "768/768 [==============================] - 0s 183us/step - loss: 0.6472 - acc: 0.6510\n",
      "Epoch 47/100\n",
      "768/768 [==============================] - 0s 195us/step - loss: 0.6470 - acc: 0.6510\n",
      "Epoch 48/100\n",
      "768/768 [==============================] - 0s 194us/step - loss: 0.6471 - acc: 0.6510\n",
      "Epoch 49/100\n",
      "768/768 [==============================] - 0s 161us/step - loss: 0.6472 - acc: 0.6510\n",
      "Epoch 50/100\n",
      "768/768 [==============================] - 0s 163us/step - loss: 0.6471 - acc: 0.6510\n",
      "Epoch 51/100\n",
      "768/768 [==============================] - 0s 173us/step - loss: 0.6469 - acc: 0.6510\n",
      "Epoch 52/100\n",
      "768/768 [==============================] - 0s 146us/step - loss: 0.6471 - acc: 0.6510\n",
      "Epoch 53/100\n",
      "768/768 [==============================] - 0s 145us/step - loss: 0.6474 - acc: 0.6510\n",
      "Epoch 54/100\n",
      "768/768 [==============================] - 0s 132us/step - loss: 0.6477 - acc: 0.6510\n",
      "Epoch 55/100\n",
      "768/768 [==============================] - 0s 125us/step - loss: 0.6471 - acc: 0.6510\n",
      "Epoch 56/100\n",
      "768/768 [==============================] - 0s 120us/step - loss: 0.6471 - acc: 0.6510\n",
      "Epoch 57/100\n",
      "768/768 [==============================] - 0s 118us/step - loss: 0.6471 - acc: 0.6510\n",
      "Epoch 58/100\n",
      "768/768 [==============================] - 0s 142us/step - loss: 0.6472 - acc: 0.6510\n",
      "Epoch 59/100\n",
      "768/768 [==============================] - 0s 153us/step - loss: 0.6471 - acc: 0.6510\n",
      "Epoch 60/100\n",
      "768/768 [==============================] - 0s 141us/step - loss: 0.6472 - acc: 0.6510\n",
      "Epoch 61/100\n",
      "768/768 [==============================] - 0s 130us/step - loss: 0.6471 - acc: 0.6510\n",
      "Epoch 62/100\n",
      "768/768 [==============================] - 0s 149us/step - loss: 0.6471 - acc: 0.6510\n",
      "Epoch 63/100\n",
      "768/768 [==============================] - 0s 147us/step - loss: 0.6471 - acc: 0.6510\n",
      "Epoch 64/100\n",
      "768/768 [==============================] - 0s 134us/step - loss: 0.6469 - acc: 0.6510\n",
      "Epoch 65/100\n",
      "768/768 [==============================] - 0s 125us/step - loss: 0.6472 - acc: 0.6510\n",
      "Epoch 66/100\n",
      "768/768 [==============================] - 0s 122us/step - loss: 0.6473 - acc: 0.6510\n",
      "Epoch 67/100\n",
      "768/768 [==============================] - 0s 123us/step - loss: 0.6470 - acc: 0.6510\n",
      "Epoch 68/100\n",
      "768/768 [==============================] - 0s 129us/step - loss: 0.6470 - acc: 0.6510\n",
      "Epoch 69/100\n",
      "768/768 [==============================] - 0s 128us/step - loss: 0.6477 - acc: 0.6510\n",
      "Epoch 70/100\n",
      "768/768 [==============================] - 0s 135us/step - loss: 0.6470 - acc: 0.6510\n",
      "Epoch 71/100\n",
      "768/768 [==============================] - 0s 132us/step - loss: 0.6471 - acc: 0.6510\n",
      "Epoch 72/100\n",
      "768/768 [==============================] - 0s 124us/step - loss: 0.6471 - acc: 0.6510\n",
      "Epoch 73/100\n",
      "768/768 [==============================] - 0s 127us/step - loss: 0.6474 - acc: 0.6510\n",
      "Epoch 74/100\n",
      "768/768 [==============================] - 0s 150us/step - loss: 0.6470 - acc: 0.6510\n",
      "Epoch 75/100\n",
      "768/768 [==============================] - 0s 144us/step - loss: 0.6475 - acc: 0.6510\n",
      "Epoch 76/100\n",
      "768/768 [==============================] - 0s 129us/step - loss: 0.6473 - acc: 0.6510\n",
      "Epoch 77/100\n",
      "768/768 [==============================] - 0s 132us/step - loss: 0.6470 - acc: 0.6510\n",
      "Epoch 78/100\n",
      "768/768 [==============================] - 0s 126us/step - loss: 0.6471 - acc: 0.6510\n",
      "Epoch 79/100\n",
      "768/768 [==============================] - 0s 125us/step - loss: 0.6475 - acc: 0.6510\n",
      "Epoch 80/100\n",
      "768/768 [==============================] - 0s 124us/step - loss: 0.6471 - acc: 0.6510\n",
      "Epoch 81/100\n",
      "768/768 [==============================] - 0s 128us/step - loss: 0.6470 - acc: 0.6510\n",
      "Epoch 82/100\n",
      "768/768 [==============================] - 0s 142us/step - loss: 0.6472 - acc: 0.6510\n",
      "Epoch 83/100\n",
      "768/768 [==============================] - 0s 161us/step - loss: 0.6476 - acc: 0.6510\n",
      "Epoch 84/100\n",
      "768/768 [==============================] - 0s 133us/step - loss: 0.6470 - acc: 0.6510\n",
      "Epoch 85/100\n",
      "768/768 [==============================] - 0s 144us/step - loss: 0.6470 - acc: 0.6510\n",
      "Epoch 86/100\n",
      "768/768 [==============================] - 0s 132us/step - loss: 0.6470 - acc: 0.6510\n",
      "Epoch 87/100\n",
      "768/768 [==============================] - 0s 132us/step - loss: 0.6471 - acc: 0.6510\n",
      "Epoch 88/100\n",
      "768/768 [==============================] - 0s 119us/step - loss: 0.6473 - acc: 0.6510\n",
      "Epoch 89/100\n",
      "768/768 [==============================] - 0s 116us/step - loss: 0.6470 - acc: 0.6510\n",
      "Epoch 90/100\n",
      "768/768 [==============================] - 0s 145us/step - loss: 0.6472 - acc: 0.6510\n",
      "Epoch 91/100\n",
      "768/768 [==============================] - 0s 150us/step - loss: 0.6472 - acc: 0.6510\n",
      "Epoch 92/100\n",
      "768/768 [==============================] - 0s 136us/step - loss: 0.6471 - acc: 0.6510\n",
      "Epoch 93/100\n",
      "768/768 [==============================] - 0s 132us/step - loss: 0.6473 - acc: 0.6510\n",
      "Epoch 94/100\n",
      "768/768 [==============================] - 0s 134us/step - loss: 0.6470 - acc: 0.6510\n",
      "Epoch 95/100\n",
      "768/768 [==============================] - 0s 127us/step - loss: 0.6470 - acc: 0.6510\n",
      "Epoch 96/100\n",
      "768/768 [==============================] - 0s 123us/step - loss: 0.6473 - acc: 0.6510\n",
      "Epoch 97/100\n",
      "768/768 [==============================] - 0s 126us/step - loss: 0.6471 - acc: 0.6510\n",
      "Epoch 98/100\n",
      "768/768 [==============================] - 0s 133us/step - loss: 0.6472 - acc: 0.6510\n",
      "Epoch 99/100\n",
      "768/768 [==============================] - 0s 140us/step - loss: 0.6473 - acc: 0.6510\n",
      "Epoch 100/100\n",
      "768/768 [==============================] - 0s 132us/step - loss: 0.6473 - acc: 0.6510\n"
     ]
    },
    {
     "data": {
      "text/plain": [
       "<keras.callbacks.History at 0x7f8939a1dc50>"
      ]
     },
     "execution_count": 22,
     "metadata": {},
     "output_type": "execute_result"
    }
   ],
   "source": [
    "model.fit(X, Y, nb_epoch=100, batch_size=10)"
   ]
  },
  {
   "cell_type": "markdown",
   "metadata": {},
   "source": [
    "# Evaluating the model"
   ]
  },
  {
   "cell_type": "code",
   "execution_count": 23,
   "metadata": {},
   "outputs": [
    {
     "name": "stdout",
     "output_type": "stream",
     "text": [
      "768/768 [==============================] - 0s 55us/step\n",
      "acc 0.651041666667\n"
     ]
    }
   ],
   "source": [
    "scores = model.evaluate(X,Y)\n",
    "print(model.metrics_names[1], scores[1])"
   ]
  },
  {
   "cell_type": "code",
   "execution_count": null,
   "metadata": {},
   "outputs": [],
   "source": []
  },
  {
   "cell_type": "code",
   "execution_count": null,
   "metadata": {},
   "outputs": [],
   "source": []
  }
 ],
 "metadata": {
  "kernelspec": {
   "display_name": "Python 3",
   "language": "python",
   "name": "python3"
  },
  "language_info": {
   "codemirror_mode": {
    "name": "ipython",
    "version": 3
   },
   "file_extension": ".py",
   "mimetype": "text/x-python",
   "name": "python",
   "nbconvert_exporter": "python",
   "pygments_lexer": "ipython3",
   "version": "3.6.0"
  }
 },
 "nbformat": 4,
 "nbformat_minor": 2
}
